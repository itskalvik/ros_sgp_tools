{
 "cells": [
  {
   "cell_type": "code",
   "execution_count": null,
   "metadata": {},
   "outputs": [],
   "source": [
    "import numpy as np\n",
    "import pandas as pd\n",
    "from utils import plan2data\n",
    "import matplotlib.pyplot as plt\n",
    "from sklearn.preprocessing import StandardScaler\n",
    "\n",
    "from sgptools.utils.gpflow import *\n",
    "from sgptools.utils.metrics import get_rmse\n",
    "\n",
    "import tensorflow as tf\n",
    "tf.random.set_seed(2024)\n",
    "np.random.seed(2024)"
   ]
  },
  {
   "cell_type": "code",
   "execution_count": null,
   "metadata": {},
   "outputs": [],
   "source": [
    "def df2set(path):\n",
    "    df = pd.read_csv(path+'data.csv')\n",
    "    df = df.dropna()\n",
    "\n",
    "    x1 = df['DPTH.Lng'].to_numpy()\n",
    "    x2 = df['DPTH.Lat'].to_numpy()\n",
    "    X = np.vstack([x2, x1]).T*1e-7\n",
    "    X = X_scaler.transform(X)\n",
    "    y = df['DPTH.Depth'].to_numpy().reshape(-1, 1)\n",
    "\n",
    "    return X, y"
   ]
  },
  {
   "cell_type": "markdown",
   "metadata": {},
   "source": [
    "# Boundary "
   ]
  },
  {
   "cell_type": "code",
   "execution_count": null,
   "metadata": {},
   "outputs": [],
   "source": [
    "plan_fname = '../launch/plans/lake.plan'\n",
    "\n",
    "# Get the data and normalize \n",
    "X_train, home_position = plan2data(plan_fname, \n",
    "                                   num_samples=5000)\n",
    "\n",
    "X_train = np.array(X_train).reshape(-1, 2)\n",
    "X_scaler = StandardScaler()\n",
    "X_train = X_scaler.fit_transform(X_train)\n",
    "\n",
    "X_train, home_position = plan2data(plan_fname, \n",
    "                                   num_samples=20000)\n",
    "X_train = X_scaler.transform(X_train)"
   ]
  },
  {
   "cell_type": "code",
   "execution_count": null,
   "metadata": {},
   "outputs": [],
   "source": [
    "import json\n",
    "\n",
    "# Extract geofence and home location from QGC plan file\n",
    "def plan2vertices(fname, num_samples=5000):\n",
    "    with open(fname, \"r\") as infile:\n",
    "        data = json.load(infile)\n",
    "        vertices = np.array(data['geoFence']['polygons'][0]['polygon'])\n",
    "    vertices = np.vstack([vertices, vertices[0]])\n",
    "    return vertices\n",
    "\n",
    "boundary = plan2vertices(plan_fname)\n",
    "boundary = X_scaler.transform(boundary)"
   ]
  },
  {
   "cell_type": "markdown",
   "metadata": {},
   "source": [
    "# Lawn Mower "
   ]
  },
  {
   "cell_type": "code",
   "execution_count": null,
   "metadata": {},
   "outputs": [],
   "source": [
    "path = '../data/20240726/ASV1/mission5/'\n",
    "X_gt, y_gt = df2set(path)\n",
    "X_gt, y_gt = X_gt[::4], y_gt[::4]\n",
    "print(X_gt.shape, y_gt.shape)\n",
    "\n",
    "plt.scatter(X_train[:, 1], X_train[:, 0], marker='.', s=0.1)\n",
    "plt.scatter(X_gt[:, 1], X_gt[:, 0], c=y_gt)\n",
    "plt.xlabel('X')\n",
    "plt.ylabel('Y')\n",
    "plt.colorbar(label='Depth')\n",
    "plt.show()\n",
    "\n",
    "kernel = gpflow.kernels.SquaredExponential(lengthscales=0.1, \n",
    "                                           variance=0.5)\n",
    "gpr_gt = gpflow.models.GPR(data=(X_gt, y_gt), \n",
    "                           kernel=kernel)\n",
    "\n",
    "y_labels, _ = gpr_gt.predict_f(X_train)\n",
    "y_labels = y_labels.numpy()\n",
    "\n",
    "plt.figure(figsize=(12, 8))\n",
    "plt.scatter(X_train[:, 1], X_train[:, 0], c=y_labels)\n",
    "plt.xlabel('X')\n",
    "plt.ylabel('Y')\n",
    "plt.colorbar(label='Depth')\n",
    "plt.savefig('lawn_mower.png', bbox_inches='tight')\n",
    "plt.show()"
   ]
  },
  {
   "cell_type": "markdown",
   "metadata": {},
   "source": [
    "# 2R-Discrete-15"
   ]
  },
  {
   "cell_type": "code",
   "execution_count": null,
   "metadata": {},
   "outputs": [],
   "source": [
    "path = '../data/20240724/ASV1/mission6/'\n",
    "X1, y1 = df2set(path)\n",
    "df1 = pd.read_csv(path+'IPPMission-(-1).csv', \n",
    "                 header=None, delimiter=' ')\n",
    "X_waypoints1 = np.vstack([df1[0].to_numpy(), df1[1].to_numpy()]).T\n",
    "\n",
    "path = '../data/20240724/ASV2/mission6/'\n",
    "X2, y2 = df2set(path)\n",
    "df2 = pd.read_csv(path+'IPPMission-(-1).csv', \n",
    "                 header=None, delimiter=' ')\n",
    "X_waypoints2 = np.vstack([df2[0].to_numpy(), df2[1].to_numpy()]).T\n",
    "\n",
    "X_data = np.vstack([X1, X2])\n",
    "y_data = np.vstack([y1, y2]).reshape(-1, 1)\n",
    "gpr_pred = gpflow.models.GPR(data=(X_data, y_data), \n",
    "                             kernel=gpr_gt.kernel,\n",
    "                             noise_variance=gpr_gt.likelihood.variance)\n",
    "y_pred, _ = gpr_pred.predict_f(X_train)\n",
    "y_pred = y_pred.numpy()\n",
    "print(f'{get_rmse(y_pred, y_labels):.4f}')\n",
    "\n",
    "plt.figure(figsize=(10, 8))\n",
    "plt.scatter(X_train[:, 1], X_train[:, 0], c=y_pred)\n",
    "plt.clim(y_labels.min(), y_labels.max())\n",
    "plt.xlabel('X')\n",
    "plt.ylabel('Y')\n",
    "plt.savefig('2R-Discrete-15.png', bbox_inches='tight')\n",
    "plt.show()\n",
    "\n",
    "plt.figure(figsize=(10, 8))\n",
    "plt.plot(boundary[:, 1], boundary[:, 0])\n",
    "plt.plot(X1[:, 1], X1[:, 0], color='C1')\n",
    "plt.plot(X2[:, 1], X2[:, 0], color='C1')\n",
    "plt.plot(X_waypoints1[:, 1], X_waypoints1[:, 0], '-o', color='r')\n",
    "plt.plot(X_waypoints2[:, 1], X_waypoints2[:, 0], '-o', color='r')\n",
    "plt.plot(X_waypoints1[:1, 1], X_waypoints1[:1, 0], '-o', color='g')\n",
    "plt.plot(X_waypoints2[:1, 1], X_waypoints2[:1, 0], '-o', color='g')\n",
    "plt.xlabel('X')\n",
    "plt.ylabel('Y')\n",
    "plt.savefig('2R-Discrete-15-paths.png', bbox_inches='tight')\n",
    "plt.show()"
   ]
  },
  {
   "cell_type": "markdown",
   "metadata": {},
   "source": [
    "# 2R-Continuous-15"
   ]
  },
  {
   "cell_type": "code",
   "execution_count": null,
   "metadata": {},
   "outputs": [],
   "source": [
    "path = '../data/20240724/ASV1/mission11/'\n",
    "X1, y1 = df2set(path)\n",
    "df1 = pd.read_csv(path+'IPPMission-(-1).csv', \n",
    "                 header=None, delimiter=' ')\n",
    "X_waypoints1 = np.vstack([df1[0].to_numpy(), df1[1].to_numpy()]).T\n",
    "\n",
    "path = '../data/20240724/ASV2/mission11/'\n",
    "X2, y2 = df2set(path)\n",
    "df2 = pd.read_csv(path+'IPPMission-(-1).csv', \n",
    "                 header=None, delimiter=' ')\n",
    "X_waypoints2 = np.vstack([df2[0].to_numpy(), df2[1].to_numpy()]).T\n",
    "\n",
    "X_data = np.vstack([X1, X2])\n",
    "y_data = np.vstack([y1, y2]).reshape(-1, 1)\n",
    "gpr_pred = gpflow.models.GPR(data=(X_data, y_data), \n",
    "                             kernel=gpr_gt.kernel,\n",
    "                             noise_variance=gpr_gt.likelihood.variance)\n",
    "y_pred, _ = gpr_pred.predict_f(X_train)\n",
    "y_pred = y_pred.numpy()\n",
    "print(f'{get_rmse(y_pred, y_labels):.4f}')\n",
    "\n",
    "plt.figure(figsize=(10, 8))\n",
    "plt.scatter(X_train[:, 1], X_train[:, 0], c=y_pred)\n",
    "plt.clim(y_labels.min(), y_labels.max())\n",
    "plt.xlabel('X')\n",
    "plt.ylabel('Y')\n",
    "plt.savefig('2R-Continuous-15.png', bbox_inches='tight')\n",
    "plt.show()\n",
    "\n",
    "plt.figure(figsize=(10, 8))\n",
    "plt.plot(boundary[:, 1], boundary[:, 0])\n",
    "plt.plot(X1[:, 1], X1[:, 0], color='C1')\n",
    "plt.plot(X2[:, 1], X2[:, 0], color='C1')\n",
    "plt.plot(X_waypoints1[:, 1], X_waypoints1[:, 0], '-o', color='r')\n",
    "plt.plot(X_waypoints2[:, 1], X_waypoints2[:, 0], '-o', color='r')\n",
    "plt.plot(X_waypoints1[:1, 1], X_waypoints1[:1, 0], '-o', color='g')\n",
    "plt.plot(X_waypoints2[:1, 1], X_waypoints2[:1, 0], '-o', color='g')\n",
    "plt.xlabel('X')\n",
    "plt.ylabel('Y')\n",
    "plt.savefig('2R-Continuous-15-paths.png', bbox_inches='tight')\n",
    "plt.show()"
   ]
  },
  {
   "cell_type": "markdown",
   "metadata": {},
   "source": [
    "# 1R-Discrete-30"
   ]
  },
  {
   "cell_type": "code",
   "execution_count": null,
   "metadata": {},
   "outputs": [],
   "source": [
    "path = '../data/20240724/ASV1/mission7/'\n",
    "X, y = df2set(path)\n",
    "df = pd.read_csv(path+'IPPMission-(-1).csv', \n",
    "                 header=None, delimiter=' ')\n",
    "X_waypoints = np.vstack([df[0].to_numpy(), df[1].to_numpy()]).T\n",
    "\n",
    "X_data = X\n",
    "y_data = y.reshape(-1, 1)\n",
    "gpr_pred = gpflow.models.GPR(data=(X_data, y_data), \n",
    "                             kernel=gpr_gt.kernel,\n",
    "                             noise_variance=gpr_gt.likelihood.variance)\n",
    "y_pred, _ = gpr_pred.predict_f(X_train)\n",
    "y_pred = y_pred.numpy()\n",
    "print(f'{get_rmse(y_pred, y_labels):.4f}')\n",
    "\n",
    "plt.figure(figsize=(10, 8))\n",
    "plt.scatter(X_train[:, 1], X_train[:, 0], c=y_pred)\n",
    "plt.clim(y_labels.min(), y_labels.max())\n",
    "plt.xlabel('X')\n",
    "plt.ylabel('Y')\n",
    "plt.savefig('1R-Discrete-30.png', bbox_inches='tight')\n",
    "plt.show()\n",
    "\n",
    "plt.figure(figsize=(10, 8))\n",
    "plt.plot(boundary[:, 1], boundary[:, 0])\n",
    "plt.plot(X[:, 1], X[:, 0], color='C1')\n",
    "plt.plot(X_waypoints[:, 1], X_waypoints[:, 0], '-o', color='r')\n",
    "plt.plot(X_waypoints[:1, 1], X_waypoints[:1, 0], '-o', color='g')\n",
    "plt.xlabel('X')\n",
    "plt.ylabel('Y')\n",
    "plt.savefig('1R-Discrete-30-paths.png', bbox_inches='tight')\n",
    "plt.show()"
   ]
  },
  {
   "cell_type": "markdown",
   "metadata": {},
   "source": [
    "# 1R-Continuous-30"
   ]
  },
  {
   "cell_type": "code",
   "execution_count": null,
   "metadata": {},
   "outputs": [],
   "source": [
    "path = '../data/20240724/ASV1/mission10/'\n",
    "X, y = df2set(path)\n",
    "df = pd.read_csv(path+'IPPMission-(-1).csv', \n",
    "                 header=None, delimiter=' ')\n",
    "X_waypoints = np.vstack([df[0].to_numpy(), df[1].to_numpy()]).T\n",
    "\n",
    "X_data = X\n",
    "y_data = y.reshape(-1, 1)\n",
    "gpr_pred = gpflow.models.GPR(data=(X_data, y_data), \n",
    "                             kernel=gpr_gt.kernel,\n",
    "                             noise_variance=gpr_gt.likelihood.variance)\n",
    "y_pred, _ = gpr_pred.predict_f(X_train)\n",
    "y_pred = y_pred.numpy()\n",
    "print(f'{get_rmse(y_pred, y_labels):.4f}')\n",
    "\n",
    "plt.figure(figsize=(10, 8))\n",
    "plt.scatter(X_train[:, 1], X_train[:, 0], c=y_pred)\n",
    "plt.clim(y_labels.min(), y_labels.max())\n",
    "plt.xlabel('X')\n",
    "plt.ylabel('Y')\n",
    "plt.savefig('1R-Continuous-30.png', bbox_inches='tight')\n",
    "plt.show()\n",
    "\n",
    "plt.figure(figsize=(10, 8))\n",
    "plt.plot(boundary[:, 1], boundary[:, 0])\n",
    "plt.plot(X[:, 1], X[:, 0], color='C1')\n",
    "plt.plot(X_waypoints[:, 1], X_waypoints[:, 0], '-o', color='r')\n",
    "plt.plot(X_waypoints[:1, 1], X_waypoints[:1, 0], '-o', color='g')\n",
    "plt.xlabel('X')\n",
    "plt.ylabel('Y')\n",
    "plt.savefig('1R-Continuous-30-paths.png', bbox_inches='tight')\n",
    "plt.show()"
   ]
  }
 ],
 "metadata": {
  "kernelspec": {
   "display_name": "Python 3 (ipykernel)",
   "language": "python",
   "name": "python3"
  },
  "language_info": {
   "codemirror_mode": {
    "name": "ipython",
    "version": 3
   },
   "file_extension": ".py",
   "mimetype": "text/x-python",
   "name": "python",
   "nbconvert_exporter": "python",
   "pygments_lexer": "ipython3",
   "version": "3.10.12"
  }
 },
 "nbformat": 4,
 "nbformat_minor": 4
}
